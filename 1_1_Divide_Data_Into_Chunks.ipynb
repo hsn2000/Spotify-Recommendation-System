{
  "cells": [
    {
      "cell_type": "code",
      "execution_count": 1,
      "metadata": {
        "id": "vIY4Jl6KxtDp"
      },
      "outputs": [],
      "source": [
        "import numpy as np\n",
        "import pandas as pd\n",
        "import seaborn as sns\n",
        "import matplotlib.pyplot as plt\n",
        "np.random.seed(15)\n",
        "import json"
      ]
    },
    {
      "cell_type": "code",
      "execution_count": 2,
      "metadata": {
        "id": "9E4_0uR2yRe4"
      },
      "outputs": [],
      "source": [
        "data1= json.load(open('/content/drive/MyDrive/Datasets/Spotify-Million-Songs-Playlist-Collaborative-Filtering-Method/mpd.slice.0-999.json'))\n",
        "data2= json.load(open('/content/drive/MyDrive/Datasets/Spotify-Million-Songs-Playlist-Collaborative-Filtering-Method/mpd.slice.1000-1999.json'))\n",
        "data3= json.load(open('/content/drive/MyDrive/Datasets/Spotify-Million-Songs-Playlist-Collaborative-Filtering-Method/mpd.slice.2000-2999.json'))\n",
        "data4= json.load(open('/content/drive/MyDrive/Datasets/Spotify-Million-Songs-Playlist-Collaborative-Filtering-Method/mpd.slice.3000-3999.json'))"
      ]
    },
    {
      "cell_type": "code",
      "execution_count": 3,
      "metadata": {
        "id": "1EPADzwi0R1r"
      },
      "outputs": [],
      "source": [
        "df1= pd.DataFrame(data1['playlists'])\n",
        "df2= pd.DataFrame(data2['playlists'])\n",
        "df3= pd.DataFrame(data3['playlists'])\n",
        "df4= pd.DataFrame(data4['playlists'])\n",
        "df= pd.concat([df1, df2, df3, df4])\n",
        "\n",
        "df= df.explode('tracks')\n",
        "df= pd.concat([df.drop(['tracks'], axis=1), df['tracks'].apply(pd.Series)],axis=1) \n",
        "\n",
        "# renaming the columns with the same name\n",
        "df.columns=['name', 'collaborative', 'pid', 'modified_at', 'num_tracks',\n",
        "       'num_albums', 'num_followers', 'num_edits', 'playlist_duration_ms',\n",
        "       'num_artists', 'description', 'pos', 'artist_name', 'track_uri',\n",
        "       'artist_uri', 'track_name', 'album_uri', 'track_duration_ms',\n",
        "       'album_name']"
      ]
    },
    {
      "cell_type": "code",
      "execution_count": 4,
      "metadata": {
        "colab": {
          "base_uri": "https://localhost:8080/"
        },
        "id": "QUT4BJcu6mNY",
        "outputId": "81a10361-af19-4bba-a674-cf7f4deee17d"
      },
      "outputs": [
        {
          "name": "stdout",
          "output_type": "stream",
          "text": [
            "Looking in indexes: https://pypi.org/simple, https://us-python.pkg.dev/colab-wheels/public/simple/\n",
            "Requirement already satisfied: spotipy in /usr/local/lib/python3.7/dist-packages (2.20.0)\n",
            "Requirement already satisfied: redis>=3.5.3 in /usr/local/lib/python3.7/dist-packages (from spotipy) (4.3.4)\n",
            "Requirement already satisfied: requests>=2.25.0 in /usr/local/lib/python3.7/dist-packages (from spotipy) (2.28.1)\n",
            "Requirement already satisfied: urllib3>=1.26.0 in /usr/local/lib/python3.7/dist-packages (from spotipy) (1.26.12)\n",
            "Requirement already satisfied: six>=1.15.0 in /usr/local/lib/python3.7/dist-packages (from spotipy) (1.15.0)\n",
            "Requirement already satisfied: typing-extensions in /usr/local/lib/python3.7/dist-packages (from redis>=3.5.3->spotipy) (4.1.1)\n",
            "Requirement already satisfied: deprecated>=1.2.3 in /usr/local/lib/python3.7/dist-packages (from redis>=3.5.3->spotipy) (1.2.13)\n",
            "Requirement already satisfied: packaging>=20.4 in /usr/local/lib/python3.7/dist-packages (from redis>=3.5.3->spotipy) (21.3)\n",
            "Requirement already satisfied: importlib-metadata>=1.0 in /usr/local/lib/python3.7/dist-packages (from redis>=3.5.3->spotipy) (4.12.0)\n",
            "Requirement already satisfied: async-timeout>=4.0.2 in /usr/local/lib/python3.7/dist-packages (from redis>=3.5.3->spotipy) (4.0.2)\n",
            "Requirement already satisfied: wrapt<2,>=1.10 in /usr/local/lib/python3.7/dist-packages (from deprecated>=1.2.3->redis>=3.5.3->spotipy) (1.14.1)\n",
            "Requirement already satisfied: zipp>=0.5 in /usr/local/lib/python3.7/dist-packages (from importlib-metadata>=1.0->redis>=3.5.3->spotipy) (3.8.1)\n",
            "Requirement already satisfied: pyparsing!=3.0.5,>=2.0.2 in /usr/local/lib/python3.7/dist-packages (from packaging>=20.4->redis>=3.5.3->spotipy) (3.0.9)\n",
            "Requirement already satisfied: charset-normalizer<3,>=2 in /usr/local/lib/python3.7/dist-packages (from requests>=2.25.0->spotipy) (2.1.1)\n",
            "Requirement already satisfied: certifi>=2017.4.17 in /usr/local/lib/python3.7/dist-packages (from requests>=2.25.0->spotipy) (2022.6.15)\n",
            "Requirement already satisfied: idna<4,>=2.5 in /usr/local/lib/python3.7/dist-packages (from requests>=2.25.0->spotipy) (2.10)\n"
          ]
        }
      ],
      "source": [
        "!pip install spotipy"
      ]
    },
    {
      "cell_type": "code",
      "execution_count": 5,
      "metadata": {
        "id": "h6f1_-Op62w_"
      },
      "outputs": [],
      "source": [
        "import spotipy\n",
        "import spotipy.oauth2 as oauth2\n",
        "from spotipy.oauth2 import SpotifyOAuth\n",
        "from spotipy.oauth2 import SpotifyClientCredentials\n",
        "import time"
      ]
    },
    {
      "cell_type": "code",
      "execution_count": 6,
      "metadata": {
        "id": "MkhVQK8U7a5W"
      },
      "outputs": [],
      "source": [
        "auth_manager = SpotifyClientCredentials(client_id='85d3f18d997e40629f507c5456edd141',\n",
        "                                        client_secret='4fb6ed22c6724fd487911b94e42ab749')"
      ]
    },
    {
      "cell_type": "code",
      "execution_count": 7,
      "metadata": {
        "id": "oxGQwHutVX3T"
      },
      "outputs": [],
      "source": [
        "#extract uri \n",
        "import re\n",
        "df['track_uri']= df[\"track_uri\"].apply(lambda x: re.findall(r'\\w+$', str(x))[0])"
      ]
    },
    {
      "cell_type": "code",
      "execution_count": 8,
      "metadata": {
        "id": "UdKM6qoJb_-m"
      },
      "outputs": [],
      "source": [
        "sp = spotipy.Spotify(auth_manager=auth_manager)"
      ]
    },
    {
      "cell_type": "code",
      "execution_count": 9,
      "metadata": {
        "id": "5CRSNuACKcPq"
      },
      "outputs": [],
      "source": [
        "def get_track_features(track_id):\n",
        "  audio = sp.audio_features(track_id)\n",
        "  track = sp.track(track_id)\n",
        "\n",
        "  # Album Features\n",
        "  release_date = track['album']['release_date']\n",
        "  popularity = track['popularity']\n",
        "\n",
        "  # Audio Features\n",
        "  danceability = audio[0]['danceability']\n",
        "  energy = audio[0]['energy']\n",
        "  key = audio[0]['key']\n",
        "  loudness = audio[0]['loudness']\n",
        "  speechiness = audio[0]['speechiness']\n",
        "  acousticness = audio[0]['acousticness']\n",
        "  instrumentalness = audio[0]['instrumentalness']\n",
        "  liveness = audio[0]['liveness']\n",
        "  valence = audio[0]['valence']\n",
        "  tempo = audio[0]['tempo']\n",
        "  time_signature = audio[0]['time_signature']\n",
        "\n",
        "  track_data = [release_date , popularity , danceability , energy , key , loudness , speechiness , acousticness , instrumentalness , liveness , valence , tempo , time_signature]\n",
        "  return track_data"
      ]
    },
    {
      "cell_type": "code",
      "execution_count": 10,
      "metadata": {
        "id": "i_FbtxDX6iW6"
      },
      "outputs": [],
      "source": [
        "temp_df = df.iloc[255651:,:]  # updating index manually to extract features in batches\n",
        "temp_df = temp_df.reset_index()"
      ]
    },
    {
      "cell_type": "code",
      "execution_count": 11,
      "metadata": {
        "colab": {
          "base_uri": "https://localhost:8080/"
        },
        "id": "EL3oAOxL-nXy",
        "outputId": "82b99b5c-4dde-494e-9c0e-72a5e7523b51"
      },
      "outputs": [
        {
          "name": "stdout",
          "output_type": "stream",
          "text": [
            "900\n",
            "1799\n",
            "2698\n",
            "3597\n",
            "4496\n",
            "5395\n",
            "6294\n",
            "7193\n",
            "8092\n",
            "8991\n",
            "9890\n"
          ]
        }
      ],
      "source": [
        "# counter variable \n",
        "i=0\n",
        "\n",
        "# variable to print the progress\n",
        "j=0\n",
        "\n",
        "# list to append the features recieved from sporify API\n",
        "track_features=[]\n",
        "\n",
        "# for each track_uri in dataset\n",
        "for uri in temp_df['track_uri']:\n",
        "\n",
        "  if i<900:   # if i < 900 (you can choose any counter number) this if condition will send 900 request for features to spotify one by one for each track uri\n",
        "  \n",
        "    if uri == '656TZlNdVe90zHvmebFt9U' or uri == '5GiU7GOYjDH2yp7fMf9w9j' or uri == '2ZF3gpgGPjOfi1yTWGX6Bm' or uri == '2odGdanrUsgu0d2i2Q5XoT' or uri == '6tf7ENqpF89Xox3xyNPGMv' or uri == '0fJ6UuZ7onqcldGr8HT5QV' or uri == '0Jb7g80rInlj3fa6W65Bp2':\n",
        "      # this confition is to avoid getting error 404 since these uri's are not available anymore on spotify API\n",
        "      track_features.append([np.nan for i in range(13)]) # for these uri's we are appending NaN values and will deal with these sample later\n",
        "\n",
        "    else: # if other uri's (which we can extract features from spotify API)\n",
        "      track_features.append(get_track_features(uri)) # storing recieved features from spotify API to later use them to concatenate in out main data frame\n",
        "      j+=1 # increment j for every succesfully recieved features to keep the track of how many samples are done to later print it\n",
        "\n",
        "  else: # if i is greater than 900, it means that we now have made enough request consequtively to API, so we will sleep for some time and reset the counter to 0\n",
        "    time.sleep(0.1)\n",
        "    print(j)\n",
        "    i=0\n",
        "\n",
        "  i+=1 # incrementing i for every uri in dataset"
      ]
    },
    {
      "cell_type": "code",
      "execution_count": 12,
      "metadata": {
        "colab": {
          "base_uri": "https://localhost:8080/"
        },
        "id": "KF7EUIPIhX5p",
        "outputId": "20b8fcaa-ebe3-47d6-9590-d5d155462d44"
      },
      "outputs": [
        {
          "data": {
            "text/plain": [
              "10724"
            ]
          },
          "execution_count": 12,
          "metadata": {},
          "output_type": "execute_result"
        }
      ],
      "source": [
        "len(track_features)"
      ]
    },
    {
      "cell_type": "code",
      "execution_count": 13,
      "metadata": {
        "id": "e8BBKTa1ayd6"
      },
      "outputs": [],
      "source": [
        "track_features_df = pd.DataFrame(track_features, columns=['release_date','popularity','danceability','energy','key','loudness','speechiness','acousticness','instrumentalness','liveness','valence','tempo','time_signature'])"
      ]
    },
    {
      "cell_type": "code",
      "execution_count": 15,
      "metadata": {
        "id": "ctbbL-i368E2"
      },
      "outputs": [],
      "source": [
        "temp_df_with_features = pd.concat([temp_df.iloc[:len(track_features_df),:],track_features_df],axis=1)"
      ]
    },
    {
      "cell_type": "code",
      "execution_count": 16,
      "metadata": {
        "colab": {
          "base_uri": "https://localhost:8080/"
        },
        "id": "_Ltpo-U6X3rj",
        "outputId": "61df7ac7-72f1-4ec3-8189-0b423dbdc161"
      },
      "outputs": [
        {
          "data": {
            "text/plain": [
              "(10724, 33)"
            ]
          },
          "execution_count": 16,
          "metadata": {},
          "output_type": "execute_result"
        }
      ],
      "source": [
        "temp_df_with_features.shape"
      ]
    },
    {
      "cell_type": "code",
      "execution_count": 17,
      "metadata": {
        "id": "RnNjZBeYBA47"
      },
      "outputs": [],
      "source": [
        "old_size = 255651"
      ]
    },
    {
      "cell_type": "code",
      "execution_count": 18,
      "metadata": {
        "id": "IIvSXkFd7f-z"
      },
      "outputs": [],
      "source": [
        "temp_df_with_features.to_csv(\"df(\"+str(old_size)+\"+\"+str(len(temp_df_with_features))+\")\"+\".csv\")"
      ]
    },
    {
      "cell_type": "code",
      "execution_count": 19,
      "metadata": {
        "id": "ZfbPcMMicPh0"
      },
      "outputs": [],
      "source": [
        "df1 = pd.read_csv('/content/drive/MyDrive/Datasets/df(0-'+str(old_size)+').csv')\n",
        "df2 = pd.read_csv(\"df(\"+str(old_size)+\"+\"+str(len(temp_df_with_features))+\")\"+\".csv\")\n",
        "\n",
        "df3 = pd.concat([df1,df2])"
      ]
    },
    {
      "cell_type": "code",
      "execution_count": 20,
      "metadata": {
        "id": "liLngHDbEGY_"
      },
      "outputs": [],
      "source": [
        "df3.drop(columns='Unnamed: 0',inplace=True)"
      ]
    },
    {
      "cell_type": "code",
      "execution_count": 21,
      "metadata": {
        "colab": {
          "base_uri": "https://localhost:8080/"
        },
        "id": "6ASRd18-2UPi",
        "outputId": "55ad6bbc-d887-4177-fb1e-5f54b2305f57"
      },
      "outputs": [
        {
          "name": "stdout",
          "output_type": "stream",
          "text": [
            "(266375, 33)\n"
          ]
        }
      ],
      "source": [
        "print(df3.shape)\n",
        "new_size = old_size + len(temp_df_with_features)"
      ]
    },
    {
      "cell_type": "code",
      "execution_count": 23,
      "metadata": {
        "id": "MV2EdpeYiQZx"
      },
      "outputs": [],
      "source": [
        "df3.to_csv('df(0-'+str(new_size)+').csv')"
      ]
    },
    {
      "cell_type": "code",
      "execution_count": 24,
      "metadata": {
        "colab": {
          "base_uri": "https://localhost:8080/",
          "height": 36
        },
        "id": "WYj3QRAMbgnG",
        "outputId": "f098231c-e45a-4e44-cc2c-2fea59d0635e"
      },
      "outputs": [
        {
          "data": {
            "application/vnd.google.colaboratory.intrinsic+json": {
              "type": "string"
            },
            "text/plain": [
              "'/content/drive/MyDrive/Datasets/df(0-266375).csv'"
            ]
          },
          "execution_count": 24,
          "metadata": {},
          "output_type": "execute_result"
        }
      ],
      "source": [
        "import shutil\n",
        "shutil.copy('df(0-'+str(new_size)+').csv',\"/content/drive/MyDrive/Datasets\")\n"
      ]
    }
  ],
  "metadata": {
    "colab": {
      "collapsed_sections": [],
      "provenance": []
    },
    "gpuClass": "standard",
    "kernelspec": {
      "display_name": "Python 3.10.3 64-bit",
      "language": "python",
      "name": "python3"
    },
    "language_info": {
      "name": "python",
      "version": "3.10.3"
    },
    "vscode": {
      "interpreter": {
        "hash": "4323cec2d52b922c9f7bbe1804da129109550f4257a94c7360d37c119722165e"
      }
    }
  },
  "nbformat": 4,
  "nbformat_minor": 0
}
