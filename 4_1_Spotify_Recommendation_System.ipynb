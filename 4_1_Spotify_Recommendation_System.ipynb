{
  "nbformat": 4,
  "nbformat_minor": 0,
  "metadata": {
    "colab": {
      "provenance": [],
      "collapsed_sections": []
    },
    "kernelspec": {
      "name": "python3",
      "display_name": "Python 3"
    },
    "language_info": {
      "name": "python"
    }
  },
  "cells": [
    {
      "cell_type": "markdown",
      "source": [
        "# Importing Packages"
      ],
      "metadata": {
        "id": "jRWFrINfh4V_"
      }
    },
    {
      "cell_type": "code",
      "execution_count": 24,
      "metadata": {
        "id": "FvHrUsW1gUh4"
      },
      "outputs": [],
      "source": [
        "import numpy as np\n",
        "import pandas as pd\n",
        "import seaborn as sns\n",
        "import matplotlib.pyplot as plt\n",
        "np.random.seed(15)\n",
        "import json\n",
        "import shutil\n",
        "from termcolor import colored\n",
        "from scipy.stats import skew\n",
        "import warnings\n",
        "warnings.filterwarnings('ignore')"
      ]
    },
    {
      "cell_type": "code",
      "source": [
        "def print_heading(text):\n",
        "  print(colored(text, attrs=['bold','blink'], color='yellow'))\n",
        "\n",
        "def dash_line():\n",
        "    print(\"-----------------------------------------------------------------\")"
      ],
      "metadata": {
        "id": "oO61laOSdk5q"
      },
      "execution_count": 25,
      "outputs": []
    },
    {
      "cell_type": "markdown",
      "source": [
        "# Importing Data"
      ],
      "metadata": {
        "id": "5RcHcMuIh7a8"
      }
    },
    {
      "cell_type": "code",
      "source": [
        "data = pd.read_csv(\"/content/drive/MyDrive/Datasets/Final_Data.csv\")\n",
        "orignal_data = pd.read_csv(\"/content/drive/MyDrive/Datasets/Final_Data_with_Features.csv\")\n",
        "data.drop(columns='Unnamed: 0',inplace=True)\n",
        "orignal_data.drop(columns='Unnamed: 0',inplace=True)\n",
        "data.dropna(subset=['pid'],inplace=True,axis=0)\n",
        "data.sort_values(by='pid',inplace=True)\n",
        "data.fillna(0,inplace=True)"
      ],
      "metadata": {
        "id": "lDizPt6IiAq9"
      },
      "execution_count": 26,
      "outputs": []
    },
    {
      "cell_type": "code",
      "source": [
        "data.head()"
      ],
      "metadata": {
        "colab": {
          "base_uri": "https://localhost:8080/",
          "height": 299
        },
        "id": "Wx6T2XZZ37Ah",
        "outputId": "0c56ef4e-fb30-477e-ad00-927be8de59a7"
      },
      "execution_count": 27,
      "outputs": [
        {
          "output_type": "execute_result",
          "data": {
            "text/plain": [
              "      pid               track_uri  popularity  danceability  energy       key  \\\n",
              "0     0.0  0UaMYEvWZi0ZqiDOoHU3YI    0.720430      0.912210   0.813  0.363636   \n",
              "1189  0.0  4E5P1XyAFtrjpiIxkydly4    0.806452      0.712412   0.751  0.818182   \n",
              "1243  0.0  3H1LCvO3fVsK2HPguhbml0    0.000000      0.675076   0.822  1.000000   \n",
              "1279  0.0  3uoQULcUWfnt6nc6J7Vgai    0.000000      0.836529   0.627  0.090909   \n",
              "1298  0.0  2nbClS09zsIAqNkshg6jnp    0.000000      0.715439   0.745  0.363636   \n",
              "\n",
              "      loudness  mode  speechiness  acousticness  ...  liveness  valence  \\\n",
              "0     0.842733   0.0     0.595529      0.031225  ...  0.465860    0.810   \n",
              "1189  0.855192   1.0     0.520852      0.173695  ...  0.640217    0.195   \n",
              "1243  0.887614   1.0     0.459805      0.034036  ...  0.693271    0.430   \n",
              "1279  0.893350   1.0     0.529989      0.006657  ...  0.553562    0.720   \n",
              "1298  0.853376   0.0     0.526284      0.022590  ...  0.626441    0.576   \n",
              "\n",
              "         tempo  time_signature  subjectivity_high  subjectivity_low  \\\n",
              "0     0.540594             0.8                0.0               1.0   \n",
              "1189  0.392240             0.8                0.0               1.0   \n",
              "1243  0.517110             0.8                0.0               1.0   \n",
              "1279  0.517270             0.8                0.0               1.0   \n",
              "1298  0.543033             0.8                0.0               1.0   \n",
              "\n",
              "      subjectivity_medium  polarity_Negative  polarity_Neutral  \\\n",
              "0                     0.0                0.0               1.0   \n",
              "1189                  0.0                0.0               1.0   \n",
              "1243                  0.0                0.0               1.0   \n",
              "1279                  0.0                0.0               1.0   \n",
              "1298                  0.0                0.0               1.0   \n",
              "\n",
              "      polarity_Positive  \n",
              "0                   0.0  \n",
              "1189                0.0  \n",
              "1243                0.0  \n",
              "1279                0.0  \n",
              "1298                0.0  \n",
              "\n",
              "[5 rows x 21 columns]"
            ],
            "text/html": [
              "\n",
              "  <div id=\"df-d38d7623-570c-449b-9f14-8f371fc47ef5\">\n",
              "    <div class=\"colab-df-container\">\n",
              "      <div>\n",
              "<style scoped>\n",
              "    .dataframe tbody tr th:only-of-type {\n",
              "        vertical-align: middle;\n",
              "    }\n",
              "\n",
              "    .dataframe tbody tr th {\n",
              "        vertical-align: top;\n",
              "    }\n",
              "\n",
              "    .dataframe thead th {\n",
              "        text-align: right;\n",
              "    }\n",
              "</style>\n",
              "<table border=\"1\" class=\"dataframe\">\n",
              "  <thead>\n",
              "    <tr style=\"text-align: right;\">\n",
              "      <th></th>\n",
              "      <th>pid</th>\n",
              "      <th>track_uri</th>\n",
              "      <th>popularity</th>\n",
              "      <th>danceability</th>\n",
              "      <th>energy</th>\n",
              "      <th>key</th>\n",
              "      <th>loudness</th>\n",
              "      <th>mode</th>\n",
              "      <th>speechiness</th>\n",
              "      <th>acousticness</th>\n",
              "      <th>...</th>\n",
              "      <th>liveness</th>\n",
              "      <th>valence</th>\n",
              "      <th>tempo</th>\n",
              "      <th>time_signature</th>\n",
              "      <th>subjectivity_high</th>\n",
              "      <th>subjectivity_low</th>\n",
              "      <th>subjectivity_medium</th>\n",
              "      <th>polarity_Negative</th>\n",
              "      <th>polarity_Neutral</th>\n",
              "      <th>polarity_Positive</th>\n",
              "    </tr>\n",
              "  </thead>\n",
              "  <tbody>\n",
              "    <tr>\n",
              "      <th>0</th>\n",
              "      <td>0.0</td>\n",
              "      <td>0UaMYEvWZi0ZqiDOoHU3YI</td>\n",
              "      <td>0.720430</td>\n",
              "      <td>0.912210</td>\n",
              "      <td>0.813</td>\n",
              "      <td>0.363636</td>\n",
              "      <td>0.842733</td>\n",
              "      <td>0.0</td>\n",
              "      <td>0.595529</td>\n",
              "      <td>0.031225</td>\n",
              "      <td>...</td>\n",
              "      <td>0.465860</td>\n",
              "      <td>0.810</td>\n",
              "      <td>0.540594</td>\n",
              "      <td>0.8</td>\n",
              "      <td>0.0</td>\n",
              "      <td>1.0</td>\n",
              "      <td>0.0</td>\n",
              "      <td>0.0</td>\n",
              "      <td>1.0</td>\n",
              "      <td>0.0</td>\n",
              "    </tr>\n",
              "    <tr>\n",
              "      <th>1189</th>\n",
              "      <td>0.0</td>\n",
              "      <td>4E5P1XyAFtrjpiIxkydly4</td>\n",
              "      <td>0.806452</td>\n",
              "      <td>0.712412</td>\n",
              "      <td>0.751</td>\n",
              "      <td>0.818182</td>\n",
              "      <td>0.855192</td>\n",
              "      <td>1.0</td>\n",
              "      <td>0.520852</td>\n",
              "      <td>0.173695</td>\n",
              "      <td>...</td>\n",
              "      <td>0.640217</td>\n",
              "      <td>0.195</td>\n",
              "      <td>0.392240</td>\n",
              "      <td>0.8</td>\n",
              "      <td>0.0</td>\n",
              "      <td>1.0</td>\n",
              "      <td>0.0</td>\n",
              "      <td>0.0</td>\n",
              "      <td>1.0</td>\n",
              "      <td>0.0</td>\n",
              "    </tr>\n",
              "    <tr>\n",
              "      <th>1243</th>\n",
              "      <td>0.0</td>\n",
              "      <td>3H1LCvO3fVsK2HPguhbml0</td>\n",
              "      <td>0.000000</td>\n",
              "      <td>0.675076</td>\n",
              "      <td>0.822</td>\n",
              "      <td>1.000000</td>\n",
              "      <td>0.887614</td>\n",
              "      <td>1.0</td>\n",
              "      <td>0.459805</td>\n",
              "      <td>0.034036</td>\n",
              "      <td>...</td>\n",
              "      <td>0.693271</td>\n",
              "      <td>0.430</td>\n",
              "      <td>0.517110</td>\n",
              "      <td>0.8</td>\n",
              "      <td>0.0</td>\n",
              "      <td>1.0</td>\n",
              "      <td>0.0</td>\n",
              "      <td>0.0</td>\n",
              "      <td>1.0</td>\n",
              "      <td>0.0</td>\n",
              "    </tr>\n",
              "    <tr>\n",
              "      <th>1279</th>\n",
              "      <td>0.0</td>\n",
              "      <td>3uoQULcUWfnt6nc6J7Vgai</td>\n",
              "      <td>0.000000</td>\n",
              "      <td>0.836529</td>\n",
              "      <td>0.627</td>\n",
              "      <td>0.090909</td>\n",
              "      <td>0.893350</td>\n",
              "      <td>1.0</td>\n",
              "      <td>0.529989</td>\n",
              "      <td>0.006657</td>\n",
              "      <td>...</td>\n",
              "      <td>0.553562</td>\n",
              "      <td>0.720</td>\n",
              "      <td>0.517270</td>\n",
              "      <td>0.8</td>\n",
              "      <td>0.0</td>\n",
              "      <td>1.0</td>\n",
              "      <td>0.0</td>\n",
              "      <td>0.0</td>\n",
              "      <td>1.0</td>\n",
              "      <td>0.0</td>\n",
              "    </tr>\n",
              "    <tr>\n",
              "      <th>1298</th>\n",
              "      <td>0.0</td>\n",
              "      <td>2nbClS09zsIAqNkshg6jnp</td>\n",
              "      <td>0.000000</td>\n",
              "      <td>0.715439</td>\n",
              "      <td>0.745</td>\n",
              "      <td>0.363636</td>\n",
              "      <td>0.853376</td>\n",
              "      <td>0.0</td>\n",
              "      <td>0.526284</td>\n",
              "      <td>0.022590</td>\n",
              "      <td>...</td>\n",
              "      <td>0.626441</td>\n",
              "      <td>0.576</td>\n",
              "      <td>0.543033</td>\n",
              "      <td>0.8</td>\n",
              "      <td>0.0</td>\n",
              "      <td>1.0</td>\n",
              "      <td>0.0</td>\n",
              "      <td>0.0</td>\n",
              "      <td>1.0</td>\n",
              "      <td>0.0</td>\n",
              "    </tr>\n",
              "  </tbody>\n",
              "</table>\n",
              "<p>5 rows × 21 columns</p>\n",
              "</div>\n",
              "      <button class=\"colab-df-convert\" onclick=\"convertToInteractive('df-d38d7623-570c-449b-9f14-8f371fc47ef5')\"\n",
              "              title=\"Convert this dataframe to an interactive table.\"\n",
              "              style=\"display:none;\">\n",
              "        \n",
              "  <svg xmlns=\"http://www.w3.org/2000/svg\" height=\"24px\"viewBox=\"0 0 24 24\"\n",
              "       width=\"24px\">\n",
              "    <path d=\"M0 0h24v24H0V0z\" fill=\"none\"/>\n",
              "    <path d=\"M18.56 5.44l.94 2.06.94-2.06 2.06-.94-2.06-.94-.94-2.06-.94 2.06-2.06.94zm-11 1L8.5 8.5l.94-2.06 2.06-.94-2.06-.94L8.5 2.5l-.94 2.06-2.06.94zm10 10l.94 2.06.94-2.06 2.06-.94-2.06-.94-.94-2.06-.94 2.06-2.06.94z\"/><path d=\"M17.41 7.96l-1.37-1.37c-.4-.4-.92-.59-1.43-.59-.52 0-1.04.2-1.43.59L10.3 9.45l-7.72 7.72c-.78.78-.78 2.05 0 2.83L4 21.41c.39.39.9.59 1.41.59.51 0 1.02-.2 1.41-.59l7.78-7.78 2.81-2.81c.8-.78.8-2.07 0-2.86zM5.41 20L4 18.59l7.72-7.72 1.47 1.35L5.41 20z\"/>\n",
              "  </svg>\n",
              "      </button>\n",
              "      \n",
              "  <style>\n",
              "    .colab-df-container {\n",
              "      display:flex;\n",
              "      flex-wrap:wrap;\n",
              "      gap: 12px;\n",
              "    }\n",
              "\n",
              "    .colab-df-convert {\n",
              "      background-color: #E8F0FE;\n",
              "      border: none;\n",
              "      border-radius: 50%;\n",
              "      cursor: pointer;\n",
              "      display: none;\n",
              "      fill: #1967D2;\n",
              "      height: 32px;\n",
              "      padding: 0 0 0 0;\n",
              "      width: 32px;\n",
              "    }\n",
              "\n",
              "    .colab-df-convert:hover {\n",
              "      background-color: #E2EBFA;\n",
              "      box-shadow: 0px 1px 2px rgba(60, 64, 67, 0.3), 0px 1px 3px 1px rgba(60, 64, 67, 0.15);\n",
              "      fill: #174EA6;\n",
              "    }\n",
              "\n",
              "    [theme=dark] .colab-df-convert {\n",
              "      background-color: #3B4455;\n",
              "      fill: #D2E3FC;\n",
              "    }\n",
              "\n",
              "    [theme=dark] .colab-df-convert:hover {\n",
              "      background-color: #434B5C;\n",
              "      box-shadow: 0px 1px 3px 1px rgba(0, 0, 0, 0.15);\n",
              "      filter: drop-shadow(0px 1px 2px rgba(0, 0, 0, 0.3));\n",
              "      fill: #FFFFFF;\n",
              "    }\n",
              "  </style>\n",
              "\n",
              "      <script>\n",
              "        const buttonEl =\n",
              "          document.querySelector('#df-d38d7623-570c-449b-9f14-8f371fc47ef5 button.colab-df-convert');\n",
              "        buttonEl.style.display =\n",
              "          google.colab.kernel.accessAllowed ? 'block' : 'none';\n",
              "\n",
              "        async function convertToInteractive(key) {\n",
              "          const element = document.querySelector('#df-d38d7623-570c-449b-9f14-8f371fc47ef5');\n",
              "          const dataTable =\n",
              "            await google.colab.kernel.invokeFunction('convertToInteractive',\n",
              "                                                     [key], {});\n",
              "          if (!dataTable) return;\n",
              "\n",
              "          const docLinkHtml = 'Like what you see? Visit the ' +\n",
              "            '<a target=\"_blank\" href=https://colab.research.google.com/notebooks/data_table.ipynb>data table notebook</a>'\n",
              "            + ' to learn more about interactive tables.';\n",
              "          element.innerHTML = '';\n",
              "          dataTable['output_type'] = 'display_data';\n",
              "          await google.colab.output.renderOutput(dataTable, element);\n",
              "          const docLink = document.createElement('div');\n",
              "          docLink.innerHTML = docLinkHtml;\n",
              "          element.appendChild(docLink);\n",
              "        }\n",
              "      </script>\n",
              "    </div>\n",
              "  </div>\n",
              "  "
            ]
          },
          "metadata": {},
          "execution_count": 27
        }
      ]
    },
    {
      "cell_type": "code",
      "execution_count": 28,
      "metadata": {
        "id": "L5ylpsQU2ig3"
      },
      "outputs": [],
      "source": [
        "def generate_playlists_vector(complete_data, unique_playlists):\n",
        "  i=0\n",
        "  pid_array = []\n",
        "  summarized_playlists_vector = np.array([])\n",
        "  for playlist in unique_playlists:\n",
        "    playlist_data = complete_data[complete_data['pid'] == playlist]\n",
        "    playlist_data = playlist_data.drop(columns=['pid','track_uri']).sum(axis=0)\n",
        "    playlist_data = playlist_data.values\n",
        "    playlist_data = playlist_data.reshape((1,playlist_data.shape[0]))\n",
        "    if i == 0:\n",
        "      summarized_playlists_vector = playlist_data\n",
        "    else: \n",
        "      summarized_playlists_vector = np.vstack((summarized_playlists_vector,playlist_data))\n",
        "    i+=1\n",
        "    pid_array.append(playlist)\n",
        "  return summarized_playlists_vector,pid_array\n"
      ]
    },
    {
      "cell_type": "code",
      "source": [
        "total_unique_playlists = data['pid'].unique()\n",
        "total_unique_playlists = np.delete(total_unique_playlists,-1)\n",
        "\n",
        "summarized_playlists,pid_array = generate_playlists_vector(data,total_unique_playlists)"
      ],
      "metadata": {
        "id": "sB__WTpZ4hgF"
      },
      "execution_count": 29,
      "outputs": []
    },
    {
      "cell_type": "code",
      "source": [
        "pid_array = np.array(pid_array).reshape((len(pid_array),1))"
      ],
      "metadata": {
        "id": "qQxIhKJzJ8QA"
      },
      "execution_count": 30,
      "outputs": []
    },
    {
      "cell_type": "code",
      "source": [
        "summarized_playlists = np.hstack((pid_array,summarized_playlists))"
      ],
      "metadata": {
        "id": "Sv1DmJlAKcq1"
      },
      "execution_count": 31,
      "outputs": []
    },
    {
      "cell_type": "code",
      "source": [
        "summarized_playlists_df = pd.DataFrame(summarized_playlists,\n",
        "                                       columns=['pid', 'popularity', 'danceability', 'energy', 'key',\n",
        "                                                'loudness', 'mode', 'speechiness', 'acousticness', 'instrumentalness',\n",
        "                                                'liveness', 'valence', 'tempo', 'time_signature', 'subjectivity_high',\n",
        "                                                'subjectivity_low', 'subjectivity_medium', 'polarity_Negative',\n",
        "                                                'polarity_Neutral', 'polarity_Positive'])"
      ],
      "metadata": {
        "id": "h0F5XaebJNZj"
      },
      "execution_count": 32,
      "outputs": []
    },
    {
      "cell_type": "code",
      "source": [
        "summarized_playlists_df.head()"
      ],
      "metadata": {
        "colab": {
          "base_uri": "https://localhost:8080/",
          "height": 270
        },
        "id": "nBbdx6DtKoSI",
        "outputId": "627edfa6-9122-4c46-f2c8-cdde81eb863d"
      },
      "execution_count": 33,
      "outputs": [
        {
          "output_type": "execute_result",
          "data": {
            "text/plain": [
              "   pid  popularity  danceability   energy        key    loudness  mode  \\\n",
              "0  0.0   24.709677     34.845610  40.6160  23.818182   45.656199  36.0   \n",
              "1  1.0   17.279570     19.377296  27.1410  15.818182   32.243396  21.0   \n",
              "2  2.0   14.817204     43.338042  44.3490  29.090909   56.208170  33.0   \n",
              "3  3.0   27.451613     65.406660  78.2336  58.454545  101.138148  90.0   \n",
              "4  4.0    5.537634      9.884965  11.0571   5.181818   14.183045  14.0   \n",
              "\n",
              "   speechiness  acousticness  instrumentalness   liveness  valence      tempo  \\\n",
              "0    28.394205      4.368528          0.035103  32.511548  33.4230  27.146630   \n",
              "1    19.782934      6.352275          8.733356  24.314745  18.5900  21.003525   \n",
              "2    34.236242     17.291576          0.040861  39.413861  36.1650  31.601788   \n",
              "3    61.610892     34.601215         25.623249  79.631643  56.8585  68.161845   \n",
              "4     7.668224      3.024312          1.391290  10.174199   8.3350   9.355963   \n",
              "\n",
              "   time_signature  subjectivity_high  subjectivity_low  subjectivity_medium  \\\n",
              "0            41.6               13.0              39.0                  0.0   \n",
              "1            29.4                3.0              36.0                  0.0   \n",
              "2            51.2               18.0              46.0                  0.0   \n",
              "3            99.6               29.0              96.0                  1.0   \n",
              "4            13.4                8.0               9.0                  0.0   \n",
              "\n",
              "   polarity_Negative  polarity_Neutral  polarity_Positive  \n",
              "0                3.0              37.0               12.0  \n",
              "1                4.0              35.0                0.0  \n",
              "2                6.0              43.0               15.0  \n",
              "3               12.0              95.0               19.0  \n",
              "4                3.0               8.0                6.0  "
            ],
            "text/html": [
              "\n",
              "  <div id=\"df-a98ff447-b07b-4d63-8ae3-24d198b65283\">\n",
              "    <div class=\"colab-df-container\">\n",
              "      <div>\n",
              "<style scoped>\n",
              "    .dataframe tbody tr th:only-of-type {\n",
              "        vertical-align: middle;\n",
              "    }\n",
              "\n",
              "    .dataframe tbody tr th {\n",
              "        vertical-align: top;\n",
              "    }\n",
              "\n",
              "    .dataframe thead th {\n",
              "        text-align: right;\n",
              "    }\n",
              "</style>\n",
              "<table border=\"1\" class=\"dataframe\">\n",
              "  <thead>\n",
              "    <tr style=\"text-align: right;\">\n",
              "      <th></th>\n",
              "      <th>pid</th>\n",
              "      <th>popularity</th>\n",
              "      <th>danceability</th>\n",
              "      <th>energy</th>\n",
              "      <th>key</th>\n",
              "      <th>loudness</th>\n",
              "      <th>mode</th>\n",
              "      <th>speechiness</th>\n",
              "      <th>acousticness</th>\n",
              "      <th>instrumentalness</th>\n",
              "      <th>liveness</th>\n",
              "      <th>valence</th>\n",
              "      <th>tempo</th>\n",
              "      <th>time_signature</th>\n",
              "      <th>subjectivity_high</th>\n",
              "      <th>subjectivity_low</th>\n",
              "      <th>subjectivity_medium</th>\n",
              "      <th>polarity_Negative</th>\n",
              "      <th>polarity_Neutral</th>\n",
              "      <th>polarity_Positive</th>\n",
              "    </tr>\n",
              "  </thead>\n",
              "  <tbody>\n",
              "    <tr>\n",
              "      <th>0</th>\n",
              "      <td>0.0</td>\n",
              "      <td>24.709677</td>\n",
              "      <td>34.845610</td>\n",
              "      <td>40.6160</td>\n",
              "      <td>23.818182</td>\n",
              "      <td>45.656199</td>\n",
              "      <td>36.0</td>\n",
              "      <td>28.394205</td>\n",
              "      <td>4.368528</td>\n",
              "      <td>0.035103</td>\n",
              "      <td>32.511548</td>\n",
              "      <td>33.4230</td>\n",
              "      <td>27.146630</td>\n",
              "      <td>41.6</td>\n",
              "      <td>13.0</td>\n",
              "      <td>39.0</td>\n",
              "      <td>0.0</td>\n",
              "      <td>3.0</td>\n",
              "      <td>37.0</td>\n",
              "      <td>12.0</td>\n",
              "    </tr>\n",
              "    <tr>\n",
              "      <th>1</th>\n",
              "      <td>1.0</td>\n",
              "      <td>17.279570</td>\n",
              "      <td>19.377296</td>\n",
              "      <td>27.1410</td>\n",
              "      <td>15.818182</td>\n",
              "      <td>32.243396</td>\n",
              "      <td>21.0</td>\n",
              "      <td>19.782934</td>\n",
              "      <td>6.352275</td>\n",
              "      <td>8.733356</td>\n",
              "      <td>24.314745</td>\n",
              "      <td>18.5900</td>\n",
              "      <td>21.003525</td>\n",
              "      <td>29.4</td>\n",
              "      <td>3.0</td>\n",
              "      <td>36.0</td>\n",
              "      <td>0.0</td>\n",
              "      <td>4.0</td>\n",
              "      <td>35.0</td>\n",
              "      <td>0.0</td>\n",
              "    </tr>\n",
              "    <tr>\n",
              "      <th>2</th>\n",
              "      <td>2.0</td>\n",
              "      <td>14.817204</td>\n",
              "      <td>43.338042</td>\n",
              "      <td>44.3490</td>\n",
              "      <td>29.090909</td>\n",
              "      <td>56.208170</td>\n",
              "      <td>33.0</td>\n",
              "      <td>34.236242</td>\n",
              "      <td>17.291576</td>\n",
              "      <td>0.040861</td>\n",
              "      <td>39.413861</td>\n",
              "      <td>36.1650</td>\n",
              "      <td>31.601788</td>\n",
              "      <td>51.2</td>\n",
              "      <td>18.0</td>\n",
              "      <td>46.0</td>\n",
              "      <td>0.0</td>\n",
              "      <td>6.0</td>\n",
              "      <td>43.0</td>\n",
              "      <td>15.0</td>\n",
              "    </tr>\n",
              "    <tr>\n",
              "      <th>3</th>\n",
              "      <td>3.0</td>\n",
              "      <td>27.451613</td>\n",
              "      <td>65.406660</td>\n",
              "      <td>78.2336</td>\n",
              "      <td>58.454545</td>\n",
              "      <td>101.138148</td>\n",
              "      <td>90.0</td>\n",
              "      <td>61.610892</td>\n",
              "      <td>34.601215</td>\n",
              "      <td>25.623249</td>\n",
              "      <td>79.631643</td>\n",
              "      <td>56.8585</td>\n",
              "      <td>68.161845</td>\n",
              "      <td>99.6</td>\n",
              "      <td>29.0</td>\n",
              "      <td>96.0</td>\n",
              "      <td>1.0</td>\n",
              "      <td>12.0</td>\n",
              "      <td>95.0</td>\n",
              "      <td>19.0</td>\n",
              "    </tr>\n",
              "    <tr>\n",
              "      <th>4</th>\n",
              "      <td>4.0</td>\n",
              "      <td>5.537634</td>\n",
              "      <td>9.884965</td>\n",
              "      <td>11.0571</td>\n",
              "      <td>5.181818</td>\n",
              "      <td>14.183045</td>\n",
              "      <td>14.0</td>\n",
              "      <td>7.668224</td>\n",
              "      <td>3.024312</td>\n",
              "      <td>1.391290</td>\n",
              "      <td>10.174199</td>\n",
              "      <td>8.3350</td>\n",
              "      <td>9.355963</td>\n",
              "      <td>13.4</td>\n",
              "      <td>8.0</td>\n",
              "      <td>9.0</td>\n",
              "      <td>0.0</td>\n",
              "      <td>3.0</td>\n",
              "      <td>8.0</td>\n",
              "      <td>6.0</td>\n",
              "    </tr>\n",
              "  </tbody>\n",
              "</table>\n",
              "</div>\n",
              "      <button class=\"colab-df-convert\" onclick=\"convertToInteractive('df-a98ff447-b07b-4d63-8ae3-24d198b65283')\"\n",
              "              title=\"Convert this dataframe to an interactive table.\"\n",
              "              style=\"display:none;\">\n",
              "        \n",
              "  <svg xmlns=\"http://www.w3.org/2000/svg\" height=\"24px\"viewBox=\"0 0 24 24\"\n",
              "       width=\"24px\">\n",
              "    <path d=\"M0 0h24v24H0V0z\" fill=\"none\"/>\n",
              "    <path d=\"M18.56 5.44l.94 2.06.94-2.06 2.06-.94-2.06-.94-.94-2.06-.94 2.06-2.06.94zm-11 1L8.5 8.5l.94-2.06 2.06-.94-2.06-.94L8.5 2.5l-.94 2.06-2.06.94zm10 10l.94 2.06.94-2.06 2.06-.94-2.06-.94-.94-2.06-.94 2.06-2.06.94z\"/><path d=\"M17.41 7.96l-1.37-1.37c-.4-.4-.92-.59-1.43-.59-.52 0-1.04.2-1.43.59L10.3 9.45l-7.72 7.72c-.78.78-.78 2.05 0 2.83L4 21.41c.39.39.9.59 1.41.59.51 0 1.02-.2 1.41-.59l7.78-7.78 2.81-2.81c.8-.78.8-2.07 0-2.86zM5.41 20L4 18.59l7.72-7.72 1.47 1.35L5.41 20z\"/>\n",
              "  </svg>\n",
              "      </button>\n",
              "      \n",
              "  <style>\n",
              "    .colab-df-container {\n",
              "      display:flex;\n",
              "      flex-wrap:wrap;\n",
              "      gap: 12px;\n",
              "    }\n",
              "\n",
              "    .colab-df-convert {\n",
              "      background-color: #E8F0FE;\n",
              "      border: none;\n",
              "      border-radius: 50%;\n",
              "      cursor: pointer;\n",
              "      display: none;\n",
              "      fill: #1967D2;\n",
              "      height: 32px;\n",
              "      padding: 0 0 0 0;\n",
              "      width: 32px;\n",
              "    }\n",
              "\n",
              "    .colab-df-convert:hover {\n",
              "      background-color: #E2EBFA;\n",
              "      box-shadow: 0px 1px 2px rgba(60, 64, 67, 0.3), 0px 1px 3px 1px rgba(60, 64, 67, 0.15);\n",
              "      fill: #174EA6;\n",
              "    }\n",
              "\n",
              "    [theme=dark] .colab-df-convert {\n",
              "      background-color: #3B4455;\n",
              "      fill: #D2E3FC;\n",
              "    }\n",
              "\n",
              "    [theme=dark] .colab-df-convert:hover {\n",
              "      background-color: #434B5C;\n",
              "      box-shadow: 0px 1px 3px 1px rgba(0, 0, 0, 0.15);\n",
              "      filter: drop-shadow(0px 1px 2px rgba(0, 0, 0, 0.3));\n",
              "      fill: #FFFFFF;\n",
              "    }\n",
              "  </style>\n",
              "\n",
              "      <script>\n",
              "        const buttonEl =\n",
              "          document.querySelector('#df-a98ff447-b07b-4d63-8ae3-24d198b65283 button.colab-df-convert');\n",
              "        buttonEl.style.display =\n",
              "          google.colab.kernel.accessAllowed ? 'block' : 'none';\n",
              "\n",
              "        async function convertToInteractive(key) {\n",
              "          const element = document.querySelector('#df-a98ff447-b07b-4d63-8ae3-24d198b65283');\n",
              "          const dataTable =\n",
              "            await google.colab.kernel.invokeFunction('convertToInteractive',\n",
              "                                                     [key], {});\n",
              "          if (!dataTable) return;\n",
              "\n",
              "          const docLinkHtml = 'Like what you see? Visit the ' +\n",
              "            '<a target=\"_blank\" href=https://colab.research.google.com/notebooks/data_table.ipynb>data table notebook</a>'\n",
              "            + ' to learn more about interactive tables.';\n",
              "          element.innerHTML = '';\n",
              "          dataTable['output_type'] = 'display_data';\n",
              "          await google.colab.output.renderOutput(dataTable, element);\n",
              "          const docLink = document.createElement('div');\n",
              "          docLink.innerHTML = docLinkHtml;\n",
              "          element.appendChild(docLink);\n",
              "        }\n",
              "      </script>\n",
              "    </div>\n",
              "  </div>\n",
              "  "
            ]
          },
          "metadata": {},
          "execution_count": 33
        }
      ]
    },
    {
      "cell_type": "code",
      "source": [
        "from sklearn.metrics.pairwise import cosine_similarity\n",
        "\n",
        "unique_tracks = data['track_uri'].unique()\n",
        "def get_song_recommendations(orig_data,playlists_vector,playlist_id,num_of_recommendations):\n",
        "  playlists_tracks = orig_data[orig_data['pid'] == playlist_id]['track_uri'].unique()\n",
        "  tracks_not_in_playlist = set(unique_tracks) - set(playlists_tracks)\n",
        "  non_playlist_df = orig_data[orig_data['track_uri'].isin(tracks_not_in_playlist)]\n",
        "  non_playlist_df.drop_duplicates(subset=['track_uri'],inplace=True)\n",
        "  non_playlist_df['sim'] = cosine_similarity(non_playlist_df.drop(columns=['pid','track_uri']).values, playlists_vector[playlists_vector['pid']==playlist_id].drop(columns=['pid']).values)[:,0]\n",
        "  non_playlist_df = non_playlist_df.sort_values('sim',ascending = False).head(num_of_recommendations)\n",
        "  return non_playlist_df['track_uri']"
      ],
      "metadata": {
        "id": "X7nP-lJCKwGJ"
      },
      "execution_count": 34,
      "outputs": []
    },
    {
      "cell_type": "code",
      "source": [
        "def song_names_to_append_to_playlist(data,summarized_playlists_df,playlist_id,num_of_recommendations):\n",
        "  recommended_track_uri = get_song_recommendations(data,summarized_playlists_df,playlist_id,num_of_recommendations)\n",
        "  track_names = orignal_data[orignal_data['track_uri'].isin(recommended_track_uri.values)]['track_name'].unique()\n",
        "  artist_names = orignal_data[orignal_data['track_uri'].isin(recommended_track_uri.values)]['artist_name'].unique()\n",
        "  album_names = orignal_data[orignal_data['track_uri'].isin(recommended_track_uri.values)]['album_name'].unique()\n",
        "  # display(track_names)\n",
        "  print_heading(\"Top \"+str(num_of_recommendations)+\" recommendations for Playlist ID: \"+str(playlist_id))\n",
        "  dash_line()\n",
        "  for song,artist,album in zip(track_names,artist_names,album_names):\n",
        "    print('\"'+song+ '\",   by   \"' +artist+ '\",    Album Name: \"' +album+'\"')"
      ],
      "metadata": {
        "id": "zIQ77DGkLNYj"
      },
      "execution_count": 41,
      "outputs": []
    },
    {
      "cell_type": "markdown",
      "source": [
        "# Recommendations for Playlist 0     \n",
        "Top 10"
      ],
      "metadata": {
        "id": "QCepYZUJd4NV"
      }
    },
    {
      "cell_type": "code",
      "source": [
        "song_names_to_append_to_playlist(data,summarized_playlists_df,0,10)"
      ],
      "metadata": {
        "colab": {
          "base_uri": "https://localhost:8080/"
        },
        "id": "6cb-PT_ydK8x",
        "outputId": "2eadd776-4e23-4ffe-8fe9-732b6b2c9e39"
      },
      "execution_count": 42,
      "outputs": [
        {
          "output_type": "stream",
          "name": "stdout",
          "text": [
            "\u001b[5m\u001b[1m\u001b[33mTop 10 recommendations for Playlist ID: 0\u001b[0m\n",
            "-----------------------------------------------------------------\n",
            "\"Feds Watching\",   by   \"2 Chainz\",    Album Name: \"B.O.A.T.S. II #METIME\"\n",
            "\"Trap Queen\",   by   \"Fetty Wap\",    Album Name: \"Fetty Wap\"\n",
            "\"All For One\",   by   \"High School Musical Cast\",    Album Name: \"High School Musical 2\"\n",
            "\"Heart Of The City (Ain't No Love)\",   by   \"JAY Z\",    Album Name: \"The Blueprint\"\n",
            "\"Take It Back\",   by   \"Logic\",    Album Name: \"Everybody\"\n",
            "\"Turn Up The Love\",   by   \"Far East Movement\",    Album Name: \"Dirty Bass\"\n",
            "\"Go DJ\",   by   \"Lil Wayne\",    Album Name: \"Tha Carter\"\n",
            "\"What's the Deal\",   by   \"Young Dolph\",    Album Name: \"Thinking Out Loud\"\n",
            "\"Yahhh!\",   by   \"Soulja Boy\",    Album Name: \"souljaboytellem.com\"\n",
            "\"Girl Like That\",   by   \"Every Avenue\",    Album Name: \"Picture Perfect\"\n"
          ]
        }
      ]
    },
    {
      "cell_type": "markdown",
      "source": [
        "# Recommendations for Playlist 1     \n",
        "Top 10"
      ],
      "metadata": {
        "id": "P4JcqJaKeIhv"
      }
    },
    {
      "cell_type": "code",
      "source": [
        "song_names_to_append_to_playlist(data,summarized_playlists_df,1,10)"
      ],
      "metadata": {
        "colab": {
          "base_uri": "https://localhost:8080/"
        },
        "id": "mo_pcxpqeIhx",
        "outputId": "ccf86d5c-b59c-4316-9298-95cae30e5b6d"
      },
      "execution_count": 43,
      "outputs": [
        {
          "output_type": "stream",
          "name": "stdout",
          "text": [
            "\u001b[5m\u001b[1m\u001b[33mTop 10 recommendations for Playlist ID: 1\u001b[0m\n",
            "-----------------------------------------------------------------\n",
            "\"Plastic Flowers\",   by   \"The Front Bottoms\",    Album Name: \"Back On Top\"\n",
            "\"Mourning Sound\",   by   \"Grizzly Bear\",    Album Name: \"Painted Ruins\"\n",
            "\"Focus\",   by   \"Life of Dillon\",    Album Name: \"Focus\"\n",
            "\"The Past Is A Grotesque Animal\",   by   \"of Montreal\",    Album Name: \"Hissing Fauna, Are You The Destroyer?\"\n",
            "\"24's\",   by   \"T.I.\",    Album Name: \"Trap Muzik\"\n",
            "\"Try 'n Hold Me Back\",   by   \"Rob Bailey & The Hustle Standard\",    Album Name: \"Battle Tested\"\n",
            "\"Intoxicated\",   by   \"The Cab\",    Album Name: \"Symphony Soldier\"\n",
            "\"Tennessee Mountain Top - Single Version\",   by   \"Kid Rock\",    Album Name: \"Tennessee Mountain Top\"\n",
            "\"Merry Go Round\",   by   \"Machine Gun Kelly\",    Album Name: \"General Admission\"\n",
            "\"The Charade\",   by   \"D'Angelo\",    Album Name: \"Black Messiah\"\n"
          ]
        }
      ]
    },
    {
      "cell_type": "markdown",
      "source": [
        "# Recommendations for Playlist 10     \n",
        "Top 10"
      ],
      "metadata": {
        "id": "46k8dyzCeMXB"
      }
    },
    {
      "cell_type": "code",
      "source": [
        "song_names_to_append_to_playlist(data,summarized_playlists_df,10,10)"
      ],
      "metadata": {
        "colab": {
          "base_uri": "https://localhost:8080/"
        },
        "id": "B52fnvBPeMXC",
        "outputId": "08e644a8-5655-42d0-af24-8b801a54b4f8"
      },
      "execution_count": 39,
      "outputs": [
        {
          "output_type": "stream",
          "name": "stdout",
          "text": [
            "\u001b[5m\u001b[1m\u001b[33mTop 10 recommendations for Playlist ID: 10\u001b[0m\n",
            "-----------------------------------------------------------------\n",
            "CRZY by Kehlani from album: SweetSexySavage\n",
            "Work by Iggy Azalea from album: The New Classic\n",
            "Get Throwed by Bun B from album: Trill\n",
            "Stick Talk by Future from album: DS2\n",
            "Take It Back by Logic from album: Everybody\n",
            "24's by T.I. from album: Trap Muzik\n",
            "Go DJ by Lil Wayne from album: Tha Carter\n",
            "Gravel Pit by Wu-Tang Clan from album: Gravel Pit\n",
            "Tell Me You Love Me by Galantis from album: The Aviary\n",
            "Melbourne Bounce - Deorro Remix by Orkestrated from album: Melbourne Bounce\n"
          ]
        }
      ]
    },
    {
      "cell_type": "markdown",
      "source": [
        "# Generate Recommendations for Playlist of Your Choice"
      ],
      "metadata": {
        "id": "apS2Kl9otEQ4"
      }
    },
    {
      "cell_type": "code",
      "source": [
        "print(\"Enter Playlist ID: \")\n",
        "id = input()\n",
        "print(\"Enter number of song recommendations: \")\n",
        "num = input()\n",
        "\n",
        "song_names_to_append_to_playlist(data,summarized_playlists_df,int(id),int(num))"
      ],
      "metadata": {
        "colab": {
          "base_uri": "https://localhost:8080/"
        },
        "id": "nq4IkQrLtDKy",
        "outputId": "d53135f7-348e-4401-be18-ecbe12149f19"
      },
      "execution_count": 44,
      "outputs": [
        {
          "output_type": "stream",
          "name": "stdout",
          "text": [
            "Enter Playlist ID: \n",
            "34\n",
            "Enter number of song recommendations: \n",
            "12\n",
            "\u001b[5m\u001b[1m\u001b[33mTop 12 recommendations for Playlist ID: 34\u001b[0m\n",
            "-----------------------------------------------------------------\n",
            "\"Work\",   by   \"Iggy Azalea\",    Album Name: \"The New Classic\"\n",
            "\"Get Throwed\",   by   \"Bun B\",    Album Name: \"Trill\"\n",
            "\"Focus\",   by   \"Life of Dillon\",    Album Name: \"Focus\"\n",
            "\"Decemba (Remix)\",   by   \"Divine Council\",    Album Name: \"Council World\"\n",
            "\"Gravel Pit\",   by   \"Wu-Tang Clan\",    Album Name: \"Gravel Pit\"\n",
            "\"China Town\",   by   \"Migos\",    Album Name: \"Young Rich N*ggas\"\n",
            "\"Sexy And I Know It (Glee Cast Version featuring Ricky Martin)\",   by   \"Glee Cast\",    Album Name: \"Glee: The Music, The Complete Season Three\"\n",
            "\"24's\",   by   \"T.I.\",    Album Name: \"Trap Muzik\"\n",
            "\"Get Low - Remastered\",   by   \"50 Cent\",    Album Name: \"Get Low\"\n",
            "\"En terrasse\",   by   \"Lefa\",    Album Name: \"Monsieur Fall\"\n",
            "\"Pneumonia\",   by   \"Danny Brown\",    Album Name: \"Atrocity Exhibition\"\n",
            "\"Lamborghini Angels\",   by   \"Lupe Fiasco\",    Album Name: \"Food & Liquor II: The Great American Rap Album Pt. 1\"\n"
          ]
        }
      ]
    }
  ]
}